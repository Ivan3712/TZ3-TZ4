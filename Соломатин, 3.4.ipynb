{
 "cells": [
  {
   "cell_type": "code",
   "execution_count": null,
   "metadata": {},
   "outputs": [],
   "source": [
    "variable = input('Введите названия переменных: ').split()\n",
    "starting_point = [int(x) for x in input('Введите значение начальной точки через пробел, целые числа: ').split()]\n",
    "func = input('Введите минимизируемую функцию: ')\n",
    "func_g = input('Функция градиента в аналитическом виде: ')\n",
    "par = int(input('Указать необязательные параметры? 1-да/0-нет: '))\n",
    "\n",
    "if par:\n",
    "    accuracy = float(input('Точность оптимизации по аргументу для критерия Останова: '))\n",
    "    iteration = int(input('Максимальное число итераций: '))\n",
    "    inter_res = int(input('Вывод промежуточных результатов? 1-да/0-нет: '))\n",
    "    wr_inter_res = int(input('Запись промежуточных результатов? 1-да/0-нет: '))\n",
    "\n",
    "\n",
    "if not par:\n",
    "    accuracy = 0.00001\n",
    "    iteration = 500\n",
    "    inter_res = 0\n",
    "    wr_inter_res = 0\n",
    "\n",
    "\n",
    "args = sympy.symbols(variable)\n",
    "func = sympy.sympify(func)\n",
    "func_g = sympy.sympify(func_g)"
   ]
  },
  {
   "cell_type": "code",
   "execution_count": null,
   "metadata": {},
   "outputs": [],
   "source": [
    "def gradient_descent(max_iterations,threshold,w_init,func,func_g,extra_param = [], learning_rate=0.05, momentum=0.8):\n",
    "    \n",
    "    w = np.array(w_init)\n",
    "    w_history = w\n",
    "    f_history = obj_func(func,w)\n",
    "    delta_w = np.zeros(w.shape)\n",
    "    i = 0\n",
    "    diff = 1.0e10\n",
    "    m = 100\n",
    "    while  i<max_iterations and diff>threshold:\n",
    "        i+=1\n",
    "        delta_w = -learning_rate*np.sign(grad_func(func_g,w)) + momentum*delta_w\n",
    "        w = w+delta_w\n",
    "        \n",
    "        w_history = np.vstack((w_history,w))\n",
    "        f_history = np.vstack((f_history,obj_func(func,w)))\n",
    "        res_p = w\n",
    "        res_f = obj_func(func,w)\n",
    "\n",
    "        diff = np.absolute(f_history[-1]-f_history[-2])\n",
    "    if inter_res:\n",
    "        return res_p, res_f, w_history, f_history\n",
    "        \n",
    "    return res_p, res_f"
   ]
  },
  {
   "cell_type": "code",
   "execution_count": null,
   "metadata": {},
   "outputs": [],
   "source": [
    "print(f'Значения переменных: {gradient_descent(iteration, accuracy, starting_point, func, func_g)[0]}')\n",
    "print(f'Значения функции: {gradient_descent(iteration, accuracy, starting_point, func, func_g)[1]}')\n",
    "if inter_res:\n",
    "    print(f'История: {gradient_descent(iteration, accuracy, starting_point, func, func_g)[4]}')\n"
   ]
  }
 ],
 "metadata": {
  "kernelspec": {
   "display_name": "Python 3",
   "language": "python",
   "name": "python3"
  },
  "language_info": {
   "codemirror_mode": {
    "name": "ipython",
    "version": 3
   },
   "file_extension": ".py",
   "mimetype": "text/x-python",
   "name": "python",
   "nbconvert_exporter": "python",
   "pygments_lexer": "ipython3",
   "version": "3.8.5"
  }
 },
 "nbformat": 4,
 "nbformat_minor": 4
}
